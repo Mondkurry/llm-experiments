{
 "cells": [
  {
   "cell_type": "markdown",
   "metadata": {},
   "source": [
    "#### Open File and use splitlines to ensure we can call different words in our dataset"
   ]
  },
  {
   "cell_type": "code",
   "execution_count": 29,
   "metadata": {},
   "outputs": [],
   "source": [
    "words = open('names.txt','r').read().splitlines()"
   ]
  },
  {
   "cell_type": "code",
   "execution_count": 34,
   "metadata": {},
   "outputs": [
    {
     "data": {
      "text/plain": [
       "['emma',\n",
       " 'olivia',\n",
       " 'ava',\n",
       " 'isabella',\n",
       " 'sophia',\n",
       " 'charlotte',\n",
       " 'mia',\n",
       " 'amelia',\n",
       " 'harper',\n",
       " 'evelyn']"
      ]
     },
     "execution_count": 34,
     "metadata": {},
     "output_type": "execute_result"
    }
   ],
   "source": [
    "# First 10 Words\n",
    "words[:10]"
   ]
  },
  {
   "cell_type": "markdown",
   "metadata": {},
   "source": [
    "#### Learning some things about our dataset. Always an important step"
   ]
  },
  {
   "cell_type": "code",
   "execution_count": 46,
   "metadata": {},
   "outputs": [
    {
     "name": "stdout",
     "output_type": "stream",
     "text": [
      "Number of words:  32033\n",
      "Minimum word length:  2\n",
      "Maximum word length:  15\n"
     ]
    }
   ],
   "source": [
    "print('Number of words: ',len(words))\n",
    "print('Minimum word length: ',min(len(word) for word in words))\n",
    "print('Maximum word length: ',max(len(word) for word in words))"
   ]
  },
  {
   "cell_type": "code",
   "execution_count": 72,
   "metadata": {},
   "outputs": [
    {
     "name": "stdout",
     "output_type": "stream",
     "text": [
      "e m\n",
      "m m\n",
      "m a\n",
      "\n",
      "e m\n",
      "m m\n",
      "m a\n"
     ]
    }
   ],
   "source": [
    "# My implementation of splitting words into bigrams\n",
    "\n",
    "for word in words[:1]: # Print first 10 words\n",
    "    last_char = None\n",
    "    for char in list(word): # Print each character in the word, casting to a list makes it an iterable\n",
    "        if last_char != None:\n",
    "            print(last_char, char)\n",
    "        last_char = char\n",
    "    print()\n",
    "\n",
    "# Much simpler Karpathy implementation\n",
    "\n",
    "for word in words[:1]: \n",
    "    for ch1, ch2 in zip(word, word[1:]):\n",
    "        print(ch1, ch2)"
   ]
  },
  {
   "cell_type": "code",
   "execution_count": 75,
   "metadata": {},
   "outputs": [
    {
     "name": "stdout",
     "output_type": "stream",
     "text": [
      "<S> e\n",
      "e m\n",
      "m m\n",
      "m a\n",
      "a <E>\n"
     ]
    }
   ],
   "source": [
    "for word in words[:1]: \n",
    "    chars = ['<S>'] + list(word) + ['<E>']\n",
    "    for ch1, ch2 in zip(chars, chars[1:]):\n",
    "        print(ch1, ch2)"
   ]
  },
  {
   "cell_type": "code",
   "execution_count": null,
   "metadata": {},
   "outputs": [],
   "source": []
  }
 ],
 "metadata": {
  "kernelspec": {
   "display_name": "venv",
   "language": "python",
   "name": "python3"
  },
  "language_info": {
   "codemirror_mode": {
    "name": "ipython",
    "version": 3
   },
   "file_extension": ".py",
   "mimetype": "text/x-python",
   "name": "python",
   "nbconvert_exporter": "python",
   "pygments_lexer": "ipython3",
   "version": "3.8.10"
  }
 },
 "nbformat": 4,
 "nbformat_minor": 2
}
