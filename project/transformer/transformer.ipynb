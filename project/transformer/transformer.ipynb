{
 "cells": [
  {
   "cell_type": "code",
   "execution_count": 50,
   "metadata": {},
   "outputs": [],
   "source": [
    "import torch\n",
    "import torch.nn as nn\n",
    "import torch.nn.functional as F\n",
    "import torch.optim as optim\n",
    "\n",
    "import numpy as np\n",
    "import color\n",
    "from color import magenta"
   ]
  },
  {
   "cell_type": "code",
   "execution_count": 25,
   "metadata": {},
   "outputs": [],
   "source": [
    "class SelfAttention(nn.Module):\n",
    "    def __init__(self, embed_size, heads):\n",
    "        super(SelfAttention, self).__init__()\n",
    "        \n",
    "        self.embed_size = embed_size\n",
    "        self.heads = heads\n",
    "        self.head_dim = embed_size // heads \n",
    "        \n",
    "        assert (self.head_dim * heads == embed_size), \"Embed size needs to be divisible by heads\"\n",
    "        \n",
    "        # Explanation: Ensures that 'embed_size' is divisible by 'heads'. This is because the embedding is cut up into chunks and fed into identical but seperate attention heads. \n",
    "        # Each head sees a reduced dimension of the embedding which is concatonated at the end to form the final full form. This was better than just one single headed attention\n",
    "        # according to the \"Attention is all you need\" paper.\n",
    "        \n",
    "        self.queries = nn.Linear(self.head_dim, self.head_dim, bias=False) # The query needs to be head_dim x head_dim because it is multiplied by the key which is head_dim x head_dim\n",
    "        self.keys = nn.Linear(self.head_dim, self.head_dim, bias=False)\n",
    "        self.values = nn.Linear(self.head_dim, self.head_dim, bias=False)\n",
    "        \n",
    "        self.fc_out = nn.Linear(embed_size, embed_size)\n",
    "    \n",
    "    def forward(self, queries, keys, values, mask):\n",
    "        \n",
    "        # queries, keys, values have shape: (num_examples, seq_length, embed_size)\n",
    "        \n",
    "        num_examples = queries.shape[0] # Number of examples in the batch\n",
    "        value_len, key_len, query_len = values.shape[1], keys.shape[1], queries.shape[1]\n",
    "        "
   ]
  },
  {
   "cell_type": "code",
   "execution_count": 22,
   "metadata": {},
   "outputs": [
    {
     "name": "stdout",
     "output_type": "stream",
     "text": [
      "Parameter containing:\n",
      "tensor([[ 0.0711,  0.1049,  0.4373, -0.4432, -0.0977],\n",
      "        [ 0.3297, -0.3747, -0.4408, -0.2911, -0.3674],\n",
      "        [ 0.1335,  0.1937,  0.4305,  0.0925, -0.0908],\n",
      "        [-0.2462, -0.1885,  0.1552,  0.3014,  0.3736]], requires_grad=True)\n",
      "None\n"
     ]
    }
   ],
   "source": [
    "# Experimenting with linear layers\n",
    "\n",
    "linear_layer = nn.Linear(5, 4, bias=False)\n",
    "\n",
    "print(linear_layer.weight)\n",
    "print(linear_layer.bias) # should be none"
   ]
  },
  {
   "cell_type": "code",
   "execution_count": 83,
   "metadata": {},
   "outputs": [
    {
     "name": "stdout",
     "output_type": "stream",
     "text": [
      "\u001b[10;10;35m10 sentences, of 5 words, each with a 10 integer embedding\n",
      "\u001b[0m\n",
      "torch.Size([10, 5, 10])\n",
      "\u001b[10;10;35m\n",
      "Reshaping into 5 heads with a dimensionality of 2 instead of 10\n",
      "\u001b[0m\n",
      "torch.Size([10, 5, 5, 2])\n"
     ]
    }
   ],
   "source": [
    "# Experimenting with torch reshape\n",
    "\n",
    "num_examples = 10\n",
    "seq_length = 5\n",
    "embed_size = 10\n",
    "heads = 5\n",
    "\n",
    "x = torch.arange(num_examples*seq_length*embed_size).reshape(num_examples, seq_length, embed_size)\n",
    "print(magenta('10 sentences, of 5 words, each with a 10 integer embedding\\n'))\n",
    "print(x.shape)\n",
    "\n",
    "print(magenta('\\nReshaping into 5 heads with a dimensionality of 2 instead of 10\\n'))\n",
    "\n",
    "x = x.reshape(num_examples, seq_length, heads, embed_size // heads)\n",
    "print(x.shape) # Numbers are arranged in a weird way, but does that really matter on intialization? probably not"
   ]
  }
 ],
 "metadata": {
  "kernelspec": {
   "display_name": "venv",
   "language": "python",
   "name": "python3"
  },
  "language_info": {
   "codemirror_mode": {
    "name": "ipython",
    "version": 3
   },
   "file_extension": ".py",
   "mimetype": "text/x-python",
   "name": "python",
   "nbconvert_exporter": "python",
   "pygments_lexer": "ipython3",
   "version": "3.8.10"
  }
 },
 "nbformat": 4,
 "nbformat_minor": 2
}
