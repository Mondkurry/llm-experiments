{
 "cells": [
  {
   "cell_type": "code",
   "execution_count": 1,
   "metadata": {},
   "outputs": [],
   "source": [
    "import json"
   ]
  },
  {
   "cell_type": "code",
   "execution_count": 2,
   "metadata": {},
   "outputs": [],
   "source": [
    "file_path = 'c4-en-10k.jsonl'\n",
    "concatenated_text = ''\n",
    "\n",
    "# Read and parse the JSON file\n",
    "with open(file_path, 'r', encoding='utf-8') as file:\n",
    "    for line in file:\n",
    "        json_object = json.loads(line)  # Parse each line as a JSON object\n",
    "        text = json_object['text']     # Extract the 'text' field\n",
    "        concatenated_text += text + ' ' # Concatenate the text and add a space for separation\n"
   ]
  },
  {
   "cell_type": "code",
   "execution_count": 5,
   "metadata": {},
   "outputs": [],
   "source": [
    "# remove all new lines and make it one long string seperated only by spaces\n",
    "concatenated_text = concatenated_text.replace('\\n', ' ')"
   ]
  },
  {
   "cell_type": "code",
   "execution_count": 7,
   "metadata": {},
   "outputs": [
    {
     "name": "stdout",
     "output_type": "stream",
     "text": [
      "Beginners BBQ Class Taking Place in Missoula! Do you want to get better at making delicious BBQ? You will have the opportunity, put this on your calendar now. Thursday, September 22nd join World Class BBQ Champion, Tony Balay from Lonestar Smoke Rangers. He will be teaching a beginner level class for everyone who wants to get better with their culinary skills. He will teach you everything you need to know to compete in a KCBS BBQ competition, including techniques, recipes, timelines, meat selection and trimming, plus smoker and fire information. The cost to be in the class is $35 per person, and for spectators it is free. Included in the cost will be either a t-shirt or apron and you will be tasting samples of each meat that is prepared. Discussion in 'Mac OS X Lion (10.7)' started by axboi87, Jan 20, 2012. I've got a 500gb internal drive and a 240gb SSD. When trying to restore using disk utility i'm given the error \"Not enough space on disk ____ to restore\" But I shouldn't have to do \n"
     ]
    }
   ],
   "source": [
    "# print first 100 characters\n",
    "print(concatenated_text[:1000])"
   ]
  },
  {
   "cell_type": "code",
   "execution_count": null,
   "metadata": {},
   "outputs": [],
   "source": [
    "# add dataset to a .txt file.\n",
    "with open('c4-en-10k.txt', 'w', encoding='utf-8') as file:\n",
    "    file.write(concatenated_text)"
   ]
  },
  {
   "cell_type": "code",
   "execution_count": null,
   "metadata": {},
   "outputs": [],
   "source": [
    "with open(r'D:\\lara\\llm-experiments\\project\\weight_interpolation_experiment\\c4\\c4-en-10k.txt', 'r', encoding='utf-8') as f:\n",
    "    text = f.read()\n",
    "\n",
    "output = ''\n",
    "\n",
    "english = set('abcdefghijklmnopqrstuvwxyzABCDEFGHIJKLMNOPQRSTUVWXYZ.,!?')\n",
    "english.add(' ')\n",
    "\n",
    "for char in text:\n",
    "    if char not in english:\n",
    "        continue\n",
    "    else:\n",
    "        output += char\n",
    "\n",
    "# Save output as new output file\n",
    "with open(r'D:\\lara\\llm-experiments\\project\\weight_interpolation_experiment\\c4\\c4-en-10k-clean.txt', 'w', encoding='utf-8') as f:\n",
    "    f.write(output)"
   ]
  }
 ],
 "metadata": {
  "kernelspec": {
   "display_name": "torch",
   "language": "python",
   "name": "python3"
  },
  "language_info": {
   "codemirror_mode": {
    "name": "ipython",
    "version": 3
   },
   "file_extension": ".py",
   "mimetype": "text/x-python",
   "name": "python",
   "nbconvert_exporter": "python",
   "pygments_lexer": "ipython3",
   "version": "3.8.18"
  }
 },
 "nbformat": 4,
 "nbformat_minor": 2
}
